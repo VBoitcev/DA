{
 "cells": [
  {
   "cell_type": "code",
   "execution_count": 520,
   "id": "1da589d9",
   "metadata": {},
   "outputs": [],
   "source": [
    "# подгружаем библиотеки\n",
    "import pandas as pd\n",
    "import numpy as np\n",
    "import seaborn as sns\n",
    "import matplotlib.pyplot as plt\n",
    "from scipy.stats import chi2_contingency, shapiro, ttest_ind, bartlett\n",
    "import requests\n",
    "from urllib.parse import urlencode\n",
    "\n",
    "%matplotlib inline\n",
    "sns.set()"
   ]
  },
  {
   "cell_type": "markdown",
   "id": "356bb72a",
   "metadata": {},
   "source": [
    "### Загрузка и первичный осмотр данных\n",
    "\n",
    "Загрузим датасет, посмотрим на имеющиеся данные и типы данных"
   ]
  },
  {
   "cell_type": "code",
   "execution_count": 504,
   "id": "6092a55e",
   "metadata": {},
   "outputs": [
    {
     "data": {
      "text/html": [
       "<div>\n",
       "<style scoped>\n",
       "    .dataframe tbody tr th:only-of-type {\n",
       "        vertical-align: middle;\n",
       "    }\n",
       "\n",
       "    .dataframe tbody tr th {\n",
       "        vertical-align: top;\n",
       "    }\n",
       "\n",
       "    .dataframe thead th {\n",
       "        text-align: right;\n",
       "    }\n",
       "</style>\n",
       "<table border=\"1\" class=\"dataframe\">\n",
       "  <thead>\n",
       "    <tr style=\"text-align: right;\">\n",
       "      <th></th>\n",
       "      <th>user_id_1</th>\n",
       "      <th>user_id_2</th>\n",
       "      <th>group</th>\n",
       "      <th>is_match</th>\n",
       "    </tr>\n",
       "  </thead>\n",
       "  <tbody>\n",
       "    <tr>\n",
       "      <th>0</th>\n",
       "      <td>79</td>\n",
       "      <td>91</td>\n",
       "      <td>1</td>\n",
       "      <td>1</td>\n",
       "    </tr>\n",
       "    <tr>\n",
       "      <th>1</th>\n",
       "      <td>716</td>\n",
       "      <td>353</td>\n",
       "      <td>1</td>\n",
       "      <td>1</td>\n",
       "    </tr>\n",
       "    <tr>\n",
       "      <th>2</th>\n",
       "      <td>423</td>\n",
       "      <td>677</td>\n",
       "      <td>0</td>\n",
       "      <td>0</td>\n",
       "    </tr>\n",
       "    <tr>\n",
       "      <th>3</th>\n",
       "      <td>658</td>\n",
       "      <td>165</td>\n",
       "      <td>1</td>\n",
       "      <td>1</td>\n",
       "    </tr>\n",
       "    <tr>\n",
       "      <th>4</th>\n",
       "      <td>969</td>\n",
       "      <td>155</td>\n",
       "      <td>0</td>\n",
       "      <td>1</td>\n",
       "    </tr>\n",
       "  </tbody>\n",
       "</table>\n",
       "</div>"
      ],
      "text/plain": [
       "   user_id_1  user_id_2  group  is_match\n",
       "0         79         91      1         1\n",
       "1        716        353      1         1\n",
       "2        423        677      0         0\n",
       "3        658        165      1         1\n",
       "4        969        155      0         1"
      ]
     },
     "execution_count": 504,
     "metadata": {},
     "output_type": "execute_result"
    }
   ],
   "source": [
    "# парсим данные\n",
    "public_key = 'https://disk.yandex.ru/d/txn7q-CE2zSaPg'\n",
    "base_url = 'https://cloud-api.yandex.net/v1/disk/public/resources/download?'\n",
    "\n",
    "final_url = base_url + urlencode(dict(public_key=public_key))\n",
    "response = requests.get(final_url)\n",
    "download_url = response.json()['href']\n",
    "dating_app = pd.read_csv(download_url, sep=',')\n",
    "dating_app.head()"
   ]
  },
  {
   "cell_type": "code",
   "execution_count": 505,
   "id": "29f3c0d7",
   "metadata": {},
   "outputs": [],
   "source": [
    "# Для удобства присвоим имена значениям категориальных переменных\n",
    "dating_app['group'] = dating_app['group'].apply(lambda x: 'old algorithm' if x == 0 else 'new algorithm')\n",
    "dating_app['is_match'] = dating_app['is_match'].apply(lambda x: 'no match' if x == 0 else 'match')"
   ]
  },
  {
   "cell_type": "code",
   "execution_count": 506,
   "id": "e4d0067f",
   "metadata": {},
   "outputs": [
    {
     "name": "stdout",
     "output_type": "stream",
     "text": [
      "<class 'pandas.core.frame.DataFrame'>\n",
      "RangeIndex: 14514 entries, 0 to 14513\n",
      "Data columns (total 4 columns):\n",
      " #   Column     Non-Null Count  Dtype \n",
      "---  ------     --------------  ----- \n",
      " 0   user_id_1  14514 non-null  int64 \n",
      " 1   user_id_2  14514 non-null  int64 \n",
      " 2   group      14514 non-null  object\n",
      " 3   is_match   14514 non-null  object\n",
      "dtypes: int64(2), object(2)\n",
      "memory usage: 453.7+ KB\n"
     ]
    }
   ],
   "source": [
    "dating_app.info()"
   ]
  },
  {
   "cell_type": "markdown",
   "id": "72292052",
   "metadata": {},
   "source": [
    "Данные во всех колонках целые, типы данных не нуждаются в изменении. "
   ]
  },
  {
   "cell_type": "code",
   "execution_count": 507,
   "id": "0c68c041",
   "metadata": {},
   "outputs": [
    {
     "data": {
      "text/html": [
       "<div>\n",
       "<style scoped>\n",
       "    .dataframe tbody tr th:only-of-type {\n",
       "        vertical-align: middle;\n",
       "    }\n",
       "\n",
       "    .dataframe tbody tr th {\n",
       "        vertical-align: top;\n",
       "    }\n",
       "\n",
       "    .dataframe thead th {\n",
       "        text-align: right;\n",
       "    }\n",
       "</style>\n",
       "<table border=\"1\" class=\"dataframe\">\n",
       "  <thead>\n",
       "    <tr style=\"text-align: right;\">\n",
       "      <th></th>\n",
       "      <th>group</th>\n",
       "      <th>user_id_1</th>\n",
       "    </tr>\n",
       "  </thead>\n",
       "  <tbody>\n",
       "    <tr>\n",
       "      <th>0</th>\n",
       "      <td>new algorithm</td>\n",
       "      <td>499</td>\n",
       "    </tr>\n",
       "    <tr>\n",
       "      <th>1</th>\n",
       "      <td>old algorithm</td>\n",
       "      <td>501</td>\n",
       "    </tr>\n",
       "  </tbody>\n",
       "</table>\n",
       "</div>"
      ],
      "text/plain": [
       "           group  user_id_1\n",
       "0  new algorithm        499\n",
       "1  old algorithm        501"
      ]
     },
     "execution_count": 507,
     "metadata": {},
     "output_type": "execute_result"
    }
   ],
   "source": [
    "# Посмотрим на размеры выборок для каждой группы\n",
    "dating_app.groupby('group', as_index=False).agg({'user_id_1': 'nunique'})"
   ]
  },
  {
   "cell_type": "markdown",
   "id": "dfa961a9",
   "metadata": {},
   "source": [
    "У нас практически равные выборки для двух групп"
   ]
  },
  {
   "cell_type": "code",
   "execution_count": 508,
   "id": "dec03088",
   "metadata": {},
   "outputs": [
    {
     "data": {
      "text/html": [
       "<div>\n",
       "<style scoped>\n",
       "    .dataframe tbody tr th:only-of-type {\n",
       "        vertical-align: middle;\n",
       "    }\n",
       "\n",
       "    .dataframe tbody tr th {\n",
       "        vertical-align: top;\n",
       "    }\n",
       "\n",
       "    .dataframe thead th {\n",
       "        text-align: right;\n",
       "    }\n",
       "</style>\n",
       "<table border=\"1\" class=\"dataframe\">\n",
       "  <thead>\n",
       "    <tr style=\"text-align: right;\">\n",
       "      <th></th>\n",
       "      <th>group</th>\n",
       "      <th>is_match</th>\n",
       "    </tr>\n",
       "  </thead>\n",
       "  <tbody>\n",
       "    <tr>\n",
       "      <th>count</th>\n",
       "      <td>14514</td>\n",
       "      <td>14514</td>\n",
       "    </tr>\n",
       "    <tr>\n",
       "      <th>unique</th>\n",
       "      <td>2</td>\n",
       "      <td>2</td>\n",
       "    </tr>\n",
       "    <tr>\n",
       "      <th>top</th>\n",
       "      <td>new algorithm</td>\n",
       "      <td>no match</td>\n",
       "    </tr>\n",
       "    <tr>\n",
       "      <th>freq</th>\n",
       "      <td>9722</td>\n",
       "      <td>9671</td>\n",
       "    </tr>\n",
       "  </tbody>\n",
       "</table>\n",
       "</div>"
      ],
      "text/plain": [
       "                group  is_match\n",
       "count           14514     14514\n",
       "unique              2         2\n",
       "top     new algorithm  no match\n",
       "freq             9722      9671"
      ]
     },
     "execution_count": 508,
     "metadata": {},
     "output_type": "execute_result"
    }
   ],
   "source": [
    "# Посмотрим на описание переменных\n",
    "dating_app.describe(include=object)"
   ]
  },
  {
   "cell_type": "markdown",
   "id": "c772b7de",
   "metadata": {},
   "source": [
    "### Обработка пропущенных значений\n",
    "\n",
    "Посмотрим, есть ли пропущенные значения в датасете и при необходимости уберем/заменим их"
   ]
  },
  {
   "cell_type": "code",
   "execution_count": 509,
   "id": "b78b248b",
   "metadata": {
    "scrolled": true
   },
   "outputs": [
    {
     "data": {
      "text/plain": [
       "user_id_1    0\n",
       "user_id_2    0\n",
       "group        0\n",
       "is_match     0\n",
       "dtype: int64"
      ]
     },
     "execution_count": 509,
     "metadata": {},
     "output_type": "execute_result"
    }
   ],
   "source": [
    "# Смотрим пропущенные значения\n",
    "dating_app.isna().sum()"
   ]
  },
  {
   "cell_type": "markdown",
   "id": "ae06a201",
   "metadata": {},
   "source": [
    "Пропущенные значения отсуствуют."
   ]
  },
  {
   "cell_type": "markdown",
   "id": "a095d70a",
   "metadata": {},
   "source": [
    "### Анализ распределения числовых переменных\n",
    "\n",
    "Построим гистограммы и диаграммы для лучшего понимания данных. Явных числовых переменных у нас нет, но мы можем ее создать. Выбор у нас невелик, в данном случае интересно посмотреть на активность пользователей в разных группах. Данная метрика может определять качество сервиса. Так как активность пользователей свидетельствует о том, насколько сервис интересен юзерам, а это в свою очередь говорит о качестве. "
   ]
  },
  {
   "cell_type": "markdown",
   "id": "8035e113",
   "metadata": {},
   "source": [
    "Создадим две переменные, где будет хранится информация об активности пользователей в приложении, отдельно для старой и новой версии. И посмотрим нормальность распределения с помощью графиков.\n"
   ]
  },
  {
   "cell_type": "code",
   "execution_count": 510,
   "id": "4bcc962a",
   "metadata": {},
   "outputs": [],
   "source": [
    "# Находим частоту использования приложения для каждой версии\n",
    "new_alg_count_use_app = dating_app.loc[dating_app.group == 'new algorithm'].groupby(['user_id_1']).agg({'group': 'count'})\n",
    "old_alg_count_use_app = dating_app.loc[dating_app.group == 'old algorithm'].groupby(['user_id_1']).agg({'group': 'count'})"
   ]
  },
  {
   "cell_type": "markdown",
   "id": "54992c2c",
   "metadata": {},
   "source": [
    "Посмотрим, каким каким алгоритмом пользовались чаще"
   ]
  },
  {
   "cell_type": "code",
   "execution_count": 511,
   "id": "b9eacbf3",
   "metadata": {},
   "outputs": [
    {
     "data": {
      "text/plain": [
       "new algorithm    66.983602\n",
       "old algorithm    33.016398\n",
       "Name: group, dtype: float64"
      ]
     },
     "execution_count": 511,
     "metadata": {},
     "output_type": "execute_result"
    }
   ],
   "source": [
    "# Смотрим процентное соотношение активности в группах\n",
    "dating_app.group.value_counts(normalize=True).mul(100)"
   ]
  },
  {
   "cell_type": "markdown",
   "id": "c02932f3",
   "metadata": {},
   "source": [
    "Новый алгоритм в два разе чаще использовался, чем старый."
   ]
  },
  {
   "cell_type": "code",
   "execution_count": 512,
   "id": "04af6aed",
   "metadata": {},
   "outputs": [
    {
     "data": {
      "image/png": "[encoded data removed]",
      "text/plain": [
       "<Figure size 1200x600 with 1 Axes>"
      ]
     },
     "metadata": {},
     "output_type": "display_data"
    }
   ],
   "source": [
    "# Строим гистограммы\n",
    "plt.figure(figsize=(12, 6))\n",
    "sns.histplot(data=new_alg_count_use_app, x=\"group\", kde=True)\n",
    "sns.histplot(data=old_alg_count_use_app, x=\"group\", kde=True)\n",
    "plt.legend([\"new algorithm\", \"old algorithm\"])\n",
    "plt.xlabel('Кол-во использований')\n",
    "plt.ylabel('Количество пользователей')\n",
    "plt.title('Активность пользователей приложения', fontsize= 15 , loc='left')\n",
    "plt.show()"
   ]
  },
  {
   "cell_type": "markdown",
   "id": "6893b45c",
   "metadata": {},
   "source": [
    "Гистограммы имеют колокообразную форму, однако по ним нельзя сказать, что расрпеделения нормальны. Убедимся в нормальности распределения статистически - проведем тест Шапиро-Уилка. "
   ]
  },
  {
   "cell_type": "code",
   "execution_count": 513,
   "id": "7c5045bd",
   "metadata": {},
   "outputs": [
    {
     "data": {
      "text/plain": [
       "ShapiroResult(statistic=0.9839300513267517, pvalue=2.542138463468291e-05)"
      ]
     },
     "execution_count": 513,
     "metadata": {},
     "output_type": "execute_result"
    }
   ],
   "source": [
    "# Тест Шапиро-Уилка для нового алгоритма\n",
    "shapiro(new_alg_count_use_app)"
   ]
  },
  {
   "cell_type": "code",
   "execution_count": 514,
   "id": "4e8d5d35",
   "metadata": {},
   "outputs": [
    {
     "data": {
      "text/plain": [
       "ShapiroResult(statistic=0.9884840846061707, pvalue=0.0005569988279603422)"
      ]
     },
     "execution_count": 514,
     "metadata": {},
     "output_type": "execute_result"
    }
   ],
   "source": [
    "# Тест Шапиро-Уилка для старого алгоритма\n",
    "shapiro(old_alg_count_use_app)"
   ]
  },
  {
   "cell_type": "markdown",
   "id": "12f77c82",
   "metadata": {},
   "source": [
    "p.value в обоих группах значительно меньше 0.5, поэтому мы отвергаем нулевую гипотезу и будем считать, что наши распределения не являются нормальными."
   ]
  },
  {
   "cell_type": "markdown",
   "id": "f525c347",
   "metadata": {},
   "source": [
    "### Анализ категориальных переменных\n",
    "\n",
    "У нас есть две явных категориальных переменных - это группы и мэрч. Посмотрим на их количественные показатели и взаимосвязи."
   ]
  },
  {
   "cell_type": "markdown",
   "id": "0466beb5",
   "metadata": {},
   "source": [
    "Посмотрим, влияет ли группа на мэтч"
   ]
  },
  {
   "cell_type": "code",
   "execution_count": 515,
   "id": "e9183168",
   "metadata": {},
   "outputs": [
    {
     "data": {
      "text/plain": [
       "<seaborn.axisgrid.FacetGrid at 0x2aea49b90>"
      ]
     },
     "execution_count": 515,
     "metadata": {},
     "output_type": "execute_result"
    },
    {
     "data": {
      "image/png": "[encoded data removed]",
      "text/plain": [
       "<Figure size 1000x500 with 2 Axes>"
      ]
     },
     "metadata": {},
     "output_type": "display_data"
    }
   ],
   "source": [
    "# строим график влияния группы на мэтчи\n",
    "sns.catplot(\n",
    "    dating_app, kind=\"count\",\n",
    "    x=\"group\", col=\"is_match\"\n",
    ")"
   ]
  },
  {
   "cell_type": "markdown",
   "id": "b4546cd3",
   "metadata": {},
   "source": [
    "На графиках можно заметить, что с новым алгоритмом у нас match и no match выросли, по сравнению со старым алгоритмом. Посмотрим на процентное соотношение."
   ]
  },
  {
   "cell_type": "code",
   "execution_count": 516,
   "id": "8ed76ef9",
   "metadata": {},
   "outputs": [],
   "source": [
    "# Создаем датафрейм с процентным соотношением мэтчей в группах\n",
    "dating_app_perc = (dating_app.groupby('group')['is_match']\n",
    "        .value_counts(normalize = True).round(2)\n",
    "        .to_frame('perc').reset_index()\n",
    "          )"
   ]
  },
  {
   "cell_type": "code",
   "execution_count": 517,
   "id": "4a734f92",
   "metadata": {},
   "outputs": [
    {
     "data": {
      "text/html": [
       "<div>\n",
       "<style scoped>\n",
       "    .dataframe tbody tr th:only-of-type {\n",
       "        vertical-align: middle;\n",
       "    }\n",
       "\n",
       "    .dataframe tbody tr th {\n",
       "        vertical-align: top;\n",
       "    }\n",
       "\n",
       "    .dataframe thead th {\n",
       "        text-align: right;\n",
       "    }\n",
       "</style>\n",
       "<table border=\"1\" class=\"dataframe\">\n",
       "  <thead>\n",
       "    <tr style=\"text-align: right;\">\n",
       "      <th></th>\n",
       "      <th>group</th>\n",
       "      <th>is_match</th>\n",
       "      <th>perc</th>\n",
       "    </tr>\n",
       "  </thead>\n",
       "  <tbody>\n",
       "    <tr>\n",
       "      <th>0</th>\n",
       "      <td>new algorithm</td>\n",
       "      <td>no match</td>\n",
       "      <td>0.60</td>\n",
       "    </tr>\n",
       "    <tr>\n",
       "      <th>1</th>\n",
       "      <td>new algorithm</td>\n",
       "      <td>match</td>\n",
       "      <td>0.40</td>\n",
       "    </tr>\n",
       "    <tr>\n",
       "      <th>2</th>\n",
       "      <td>old algorithm</td>\n",
       "      <td>no match</td>\n",
       "      <td>0.81</td>\n",
       "    </tr>\n",
       "    <tr>\n",
       "      <th>3</th>\n",
       "      <td>old algorithm</td>\n",
       "      <td>match</td>\n",
       "      <td>0.19</td>\n",
       "    </tr>\n",
       "  </tbody>\n",
       "</table>\n",
       "</div>"
      ],
      "text/plain": [
       "           group  is_match  perc\n",
       "0  new algorithm  no match  0.60\n",
       "1  new algorithm     match  0.40\n",
       "2  old algorithm  no match  0.81\n",
       "3  old algorithm     match  0.19"
      ]
     },
     "execution_count": 517,
     "metadata": {},
     "output_type": "execute_result"
    }
   ],
   "source": [
    "dating_app_perc"
   ]
  },
  {
   "cell_type": "code",
   "execution_count": 518,
   "id": "5813ff0b",
   "metadata": {},
   "outputs": [
    {
     "data": {
      "image/png": "[encoded data removed]",
      "text/plain": [
       "<Figure size 1000x500 with 2 Axes>"
      ]
     },
     "metadata": {},
     "output_type": "display_data"
    }
   ],
   "source": [
    "# Рисуем гистограмму\n",
    "from matplotlib.ticker import PercentFormatter\n",
    "p = sns.catplot(dating_app_perc, x='group', y='perc', col='is_match', kind='bar')\n",
    "for ax in p.axes.flat:\n",
    "    ax.yaxis.set_major_formatter(PercentFormatter(1))"
   ]
  },
  {
   "cell_type": "markdown",
   "id": "0bf6ed01",
   "metadata": {},
   "source": [
    "Если рассматривать процентное соотношение, то новый алгоритм показывает лучшие показатели - match вырос, а no_match снизился. Мы можем рассматривать количество мэтчей как метрику, которая определяет качество сервиса. Так как главная задача сервиса - это знакомить людей, а мэтч, в данном случае, ключевой показатель выполнения данной задачи. То есть, чем больше мэтчей было, тем больше людей друг другу понравились и, возможно, смогли познакомиться.  "
   ]
  },
  {
   "cell_type": "markdown",
   "id": "7c45ba6f",
   "metadata": {},
   "source": [
    "### Выявление выбросов и аномалий\n",
    "\n",
    "\n",
    "Выбросы и аномалии имеет смысл посмотреть только в активности пользователей. Для этого используется визуализация, например, ящик с усами (box plot)."
   ]
  },
  {
   "cell_type": "code",
   "execution_count": 519,
   "id": "8041fc5a",
   "metadata": {},
   "outputs": [
    {
     "data": {
      "text/plain": [
       "<Axes: >"
      ]
     },
     "execution_count": 519,
     "metadata": {},
     "output_type": "execute_result"
    },
    {
     "data": {
      "image/png": "[encoded data removed]",
      "text/plain": [
       "<Figure size 640x480 with 1 Axes>"
      ]
     },
     "metadata": {},
     "output_type": "display_data"
    }
   ],
   "source": [
    "sns.boxplot([old_alg_count_use_app, new_alg_count_use_app])"
   ]
  },
  {
   "cell_type": "markdown",
   "id": "386e758a",
   "metadata": {},
   "source": [
    "Можно заметить, что у каждой группы есть по два выброса с двух сторон, однако они чуть выше/ниже максимальных и минимальных значений, поэтому убирать мы их не будем. Разброс в группах небольшой, усы равной длины, у группы со старым алгоритмом наблюдается левая ассиметрия."
   ]
  },
  {
   "cell_type": "markdown",
   "id": "8d9b6f71",
   "metadata": {},
   "source": [
    "### Исследование корреляций между переменными\n",
    "\n",
    "\n",
    "Данное исследование решил не проводить, так как полученных данных мне достаточно для определения ключевых метрик и критериев их оценки. К тому же у нас мало числовых переменных."
   ]
  },
  {
   "cell_type": "markdown",
   "id": "b28aaaff",
   "metadata": {},
   "source": [
    "### Вывод по EDA\n",
    "\n",
    "У нас две группы практически одинаковых размеров. Пустые значения в данных отсутствуют. Активных пользователей количественно больше в группе с новым алгоритмом, при этом распределение в двух группах ненормальные. Предварительный анализ категориальных переменных показал, что с использование нового алгоритма выросло количество match и снизилось кол-во no match. Есть незначительные аномалии и выбросы в данных, которые не должны повлиять на результаты тестов.\n",
    "\n",
    "Мы можем выделить две ключевые метрики, которые помогут нам оценить качество сервиса при статистическом сравнении - активность пользователей и количество мэтчей. Активность пользователей говорит об интересе к сервису, а интерес своеборазный показатель качества. А Мэтч послужит ключевым показателем выполнения главной задачи сервиса - знакомства людей. То есть, чем больше мэтчей было, тем больше людей друг другу понравились и, возможно, смогли познакомиться (сервис выполняет свою главную работу, а значит работает качественно). Для сравнения активность пользователей будем использовать t-test стьюдента, а для сравнения количества мэтчей будем использовать критерий независимости хи-квадрат. \n"
   ]
  },
  {
   "cell_type": "markdown",
   "id": "7fd4f731",
   "metadata": {},
   "source": [
    "### Проверяем гипотезу разницы средней активных пользователей\n",
    "\n",
    "Используем t-test стьюдента\n",
    "\n",
    "**Наши гипотезы**\n",
    "\n",
    "- Н0 средняя активность пользователей до и после введения нового алгоритма равна\n",
    "- Н1 средняя активность пользователей до и после введения нового алгоритма не равна"
   ]
  },
  {
   "cell_type": "markdown",
   "id": "0c28241d",
   "metadata": {},
   "source": [
    "Прежде чем мы проведем тест, нам нужно решить, будем ли мы предполагать, что две совокупности имеют одинаковую дисперсию или нет. Как правило, мы можем предположить, что совокупности имеют равные дисперсии, если отношение большей выборочной дисперсии к меньшей выборочной дисперсии составляет менее 4:1."
   ]
  },
  {
   "cell_type": "code",
   "execution_count": 460,
   "id": "a05f9dc6",
   "metadata": {},
   "outputs": [
    {
     "name": "stdout",
     "output_type": "stream",
     "text": [
      "group    8.931073\n",
      "dtype: float64 group    9.323636\n",
      "dtype: float64\n"
     ]
    }
   ],
   "source": [
    "print(np.var(new_alg_count_use_app), np.var(old_alg_count_use_app))"
   ]
  },
  {
   "cell_type": "code",
   "execution_count": 463,
   "id": "41f2d68a",
   "metadata": {},
   "outputs": [
    {
     "data": {
      "text/plain": [
       "1.04"
      ]
     },
     "execution_count": 463,
     "metadata": {},
     "output_type": "execute_result"
    }
   ],
   "source": [
    "round(9.323636/8.931073, 2)"
   ]
  },
  {
   "cell_type": "markdown",
   "id": "357859b9",
   "metadata": {},
   "source": [
    "Отношение большей дисперсии выборки к меньшей дисперсии выборки составляет 1.04, что меньше 4. Это означает, что мы можем предположить, что дисперсии генеральной совокупности равны."
   ]
  },
  {
   "cell_type": "code",
   "execution_count": 523,
   "id": "33221558",
   "metadata": {
    "scrolled": true
   },
   "outputs": [
    {
     "data": {
      "text/plain": [
       "BartlettResult(statistic=0.23049429549302344, pvalue=0.6311575578337536)"
      ]
     },
     "execution_count": 523,
     "metadata": {},
     "output_type": "execute_result"
    }
   ],
   "source": [
    "# проводим тест бартлетта для точности\n",
    "bartlett(new_alg_count_use_app['group'], old_alg_count_use_app['group'])"
   ]
  },
  {
   "cell_type": "markdown",
   "id": "2c8e0035",
   "metadata": {},
   "source": [
    "p.value > 0.05, поэтому мы не можем отвергнуть нулевую гипотезу, у нас нет достаточных доказательств того, что наши группы имеют разные дисперсии."
   ]
  },
  {
   "cell_type": "code",
   "execution_count": 524,
   "id": "a89a55f7",
   "metadata": {},
   "outputs": [
    {
     "data": {
      "text/plain": [
       "Ttest_indResult(statistic=51.85383774946492, pvalue=1.89428770640453e-285)"
      ]
     },
     "execution_count": 524,
     "metadata": {},
     "output_type": "execute_result"
    }
   ],
   "source": [
    "ttest_ind(new_alg_count_use_app['group'], old_alg_count_use_app['group'])"
   ]
  },
  {
   "cell_type": "markdown",
   "id": "13fc34c7",
   "metadata": {},
   "source": [
    "Поскольку p-значение нашего теста значительно меньше, чем альфа = 0,05, мы можем отвергнуть нулевую гипотезу теста. У нас есть достаточно данных, чтобы сказать, что средняя активность пользователей между двумя группами статистически различна. "
   ]
  },
  {
   "cell_type": "markdown",
   "id": "c2a609db",
   "metadata": {},
   "source": [
    "### Проверяем гипотезу связи количества мэтчей и алгоритма\n",
    "\n",
    "Используем Хи-квадрат тест независимости\n",
    "\n",
    "**Наши гипотезы**\n",
    "\n",
    "- Н0 количество мэтчей и алгоритм независимы\n",
    "- Н1 количество мэтчей и алгоритм зависимы"
   ]
  },
  {
   "cell_type": "code",
   "execution_count": 525,
   "id": "111232b0",
   "metadata": {},
   "outputs": [],
   "source": [
    "# Создаем сводную таблицу\n",
    "crosstab_dating_app = pd.crosstab(dating_app.group, dating_app.is_match)"
   ]
  },
  {
   "cell_type": "code",
   "execution_count": 526,
   "id": "973e95e2",
   "metadata": {},
   "outputs": [
    {
     "data": {
      "text/html": [
       "<div>\n",
       "<style scoped>\n",
       "    .dataframe tbody tr th:only-of-type {\n",
       "        vertical-align: middle;\n",
       "    }\n",
       "\n",
       "    .dataframe tbody tr th {\n",
       "        vertical-align: top;\n",
       "    }\n",
       "\n",
       "    .dataframe thead th {\n",
       "        text-align: right;\n",
       "    }\n",
       "</style>\n",
       "<table border=\"1\" class=\"dataframe\">\n",
       "  <thead>\n",
       "    <tr style=\"text-align: right;\">\n",
       "      <th>is_match</th>\n",
       "      <th>match</th>\n",
       "      <th>no match</th>\n",
       "    </tr>\n",
       "    <tr>\n",
       "      <th>group</th>\n",
       "      <th></th>\n",
       "      <th></th>\n",
       "    </tr>\n",
       "  </thead>\n",
       "  <tbody>\n",
       "    <tr>\n",
       "      <th>new algorithm</th>\n",
       "      <td>3909</td>\n",
       "      <td>5813</td>\n",
       "    </tr>\n",
       "    <tr>\n",
       "      <th>old algorithm</th>\n",
       "      <td>934</td>\n",
       "      <td>3858</td>\n",
       "    </tr>\n",
       "  </tbody>\n",
       "</table>\n",
       "</div>"
      ],
      "text/plain": [
       "is_match       match  no match\n",
       "group                         \n",
       "new algorithm   3909      5813\n",
       "old algorithm    934      3858"
      ]
     },
     "execution_count": 526,
     "metadata": {},
     "output_type": "execute_result"
    }
   ],
   "source": [
    "crosstab_dating_app"
   ]
  },
  {
   "cell_type": "code",
   "execution_count": 527,
   "id": "c3db330f",
   "metadata": {},
   "outputs": [],
   "source": [
    "stat, p, dof, expected = chi2_contingency(crosstab_dating_app)"
   ]
  },
  {
   "cell_type": "code",
   "execution_count": 530,
   "id": "bf95bc8c",
   "metadata": {},
   "outputs": [
    {
     "data": {
      "text/plain": [
       "(618.6889141576198, 1.4418299163662586e-136)"
      ]
     },
     "execution_count": 530,
     "metadata": {},
     "output_type": "execute_result"
    }
   ],
   "source": [
    "stat, p"
   ]
  },
  {
   "cell_type": "code",
   "execution_count": 531,
   "id": "129f285c",
   "metadata": {},
   "outputs": [
    {
     "name": "stdout",
     "output_type": "stream",
     "text": [
      "Отклоняем нулевую гипотезу\n"
     ]
    }
   ],
   "source": [
    "prob = 0.95\n",
    "alpha = 1.0 - prob\n",
    "if p <= alpha:\n",
    "    print('Отклоняем нулевую гипотезу')\n",
    "else:\n",
    "    print('НЕ отклоняем нулевую гипотезу')"
   ]
  },
  {
   "cell_type": "markdown",
   "id": "36d7e103",
   "metadata": {},
   "source": [
    "Поскольку p-значение нашего теста значительно меньше, чем альфа = 0,05, мы можем отвергнуть нулевую гипотезу теста. У нас есть достаточно данных, чтобы сказать, что количество мэтчей зависит от алгоритма."
   ]
  },
  {
   "cell_type": "markdown",
   "id": "3b2b08fa",
   "metadata": {},
   "source": [
    "# Вывод\n",
    "\n",
    "На основе полученных данных и проведенных тестов, можно сделать вывод, новый алгоритм с большой вероятностью повышает качество сервиса - он значительно увеличивает активность пользователей и повышает мэтчи между ними. В предаврительном анализе мы видим рост активности пользователей для нового алгоритма (активность выше в два раза), а также видим процентное увеличение match и снижение no match(с 80% на 20% к 60% на 40%). Для оценки статистической значимости данных утверждений было использовано два статистических критерия, результаты которых также показали значительное влияние нового алгоритма на ключевые метрики. Как итог, можно предположить, что новый алгоритм положительно повлияет на качество сервиса и новую систему поиска анкет можно включать на всех пользователей."
   ]
  },
  {
   "cell_type": "code",
   "execution_count": null,
   "id": "3f308120",
   "metadata": {},
   "outputs": [],
   "source": []
  },
  {
   "cell_type": "code",
   "execution_count": null,
   "id": "dce422bc",
   "metadata": {},
   "outputs": [],
   "source": []
  }
 ],
 "metadata": {
  "kernelspec": {
   "display_name": "Python 3 (ipykernel)",
   "language": "python",
   "name": "python3"
  },
  "language_info": {
   "codemirror_mode": {
    "name": "ipython",
    "version": 3
   },
   "file_extension": ".py",
   "mimetype": "text/x-python",
   "name": "python",
   "nbconvert_exporter": "python",
   "pygments_lexer": "ipython3",
   "version": "3.11.4"
  }
 },
 "nbformat": 4,
 "nbformat_minor": 5
}
